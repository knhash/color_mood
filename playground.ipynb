{
 "cells": [
  {
   "cell_type": "code",
   "execution_count": 2,
   "metadata": {},
   "outputs": [],
   "source": [
    "# from IPython.core.interactiveshell import InteractiveShell\n",
    "# InteractiveShell.ast_node_interactivity = \"all\""
   ]
  },
  {
   "cell_type": "code",
   "execution_count": 3,
   "metadata": {},
   "outputs": [],
   "source": [
    "# %pip install streamlit"
   ]
  },
  {
   "cell_type": "code",
   "execution_count": 4,
   "metadata": {},
   "outputs": [],
   "source": [
    "import streamlit as st\n",
    "import streamlit.components.v1 as components\n",
    "import numpy as np\n",
    "import pandas as pd\n",
    "\n",
    "from PIL import Image\n",
    "import colorsys\n",
    "import csv\n",
    "import os"
   ]
  },
  {
   "cell_type": "markdown",
   "metadata": {},
   "source": [
    "---"
   ]
  },
  {
   "cell_type": "markdown",
   "metadata": {},
   "source": [
    "#### utilities "
   ]
  },
  {
   "cell_type": "code",
   "execution_count": 5,
   "metadata": {},
   "outputs": [],
   "source": [
    "def generate_color_image(a, b, c, color_mode, size):\n",
    "    # Convert HSL values to RGB values\n",
    "    if color_mode == 'HSL':\n",
    "        rgb = tuple(round(i * 255) for i in colorsys.hls_to_rgb(a, b, c))\n",
    "    else:\n",
    "        rgb = tuple(round(i * 255) for i in (a, b, c))\n",
    "    \n",
    "    # Create a new image witR the specified size and color\n",
    "    image = Image.new('RGB', (int(size/1), int(size/1)), rgb)\n",
    "    \n",
    "    # Save the image as a PNG file\n",
    "    # image.save('color.png', 'PNG')\n",
    "\n",
    "    return image"
   ]
  },
  {
   "cell_type": "code",
   "execution_count": 6,
   "metadata": {},
   "outputs": [],
   "source": [
    "colors_df = None\n",
    "\n",
    "def clear_session():\n",
    "    global colors_df\n",
    "    # Delete all the items in Session state\n",
    "    for key in st.session_state.keys():\n",
    "        del st.session_state[key]\n",
    "    colors_df = None\n",
    "\n",
    "\n"
   ]
  },
  {
   "cell_type": "markdown",
   "metadata": {},
   "source": [
    "---"
   ]
  },
  {
   "cell_type": "markdown",
   "metadata": {},
   "source": [
    "#### core logic"
   ]
  },
  {
   "cell_type": "code",
   "execution_count": 24,
   "metadata": {},
   "outputs": [],
   "source": [
    "def update_colors(colors, direction='Second'):\n",
    "    global color_keys\n",
    "\n",
    "    # update colors based only on the delta\n",
    "    for key in color_keys:\n",
    "        delta = (colors[key] - colors[key+'_prev'])\n",
    "        if direction == 'Second':\n",
    "            colors[key+'_a'] = max(colors[key+'_a']+delta*5, 1)\n",
    "        else:\n",
    "            colors[key+'_b'] = max(colors[key+'_b']+delta*2.5, 1)\n",
    "        \n",
    "    # save current colors into previous colors\n",
    "    for key in color_keys:\n",
    "        colors[key+'_prev'] = colors[key]\n",
    "\n",
    "    # generate new colors from beta distribution\n",
    "    for key in color_keys:\n",
    "        colors[key] = np.random.beta(colors[key+'_a'], colors[key+'_b'])\n",
    "\n",
    "    # check if df exists exists\n",
    "    try:\n",
    "        with open('colors.csv', 'r') as f:\n",
    "            pass\n",
    "    except FileNotFoundError:\n",
    "        with open('colors.csv', 'w') as f:\n",
    "            w = csv.DictWriter(f, colors.keys())\n",
    "            w.writeheader()\n",
    "\n",
    "    # save the colors to csv\n",
    "    with open('colors.csv', 'a') as f:  # You will need 'wb' mode in Python 2.x\n",
    "        w = csv.DictWriter(f, colors.keys())\n",
    "        w.writerow(colors)\n",
    "\n",
    "    # convert the colors dict to a dataframe\n",
    "    df = pd.DataFrame.from_dict(colors, orient='index').T\n",
    "\n",
    "    # concat df to colors_df\n",
    "    global colors_df\n",
    "    colors_df = pd.concat([colors_df, df], ignore_index=True)\n",
    "\n",
    "\n",
    "    # save everything in session state\n",
    "    for key in color_keys:\n",
    "        st.session_state[key] = colors[key]\n",
    "        st.session_state[key+'_a'] = colors[key+'_a']\n",
    "        st.session_state[key+'_b'] = colors[key+'_b']\n",
    "        st.session_state[key+'_prev'] = colors[key+'_prev']\n",
    "    st.session_state['colors_df'] = colors_df\n",
    "    \n",
    "        "
   ]
  },
  {
   "cell_type": "code",
   "execution_count": null,
   "metadata": {},
   "outputs": [],
   "source": []
  },
  {
   "cell_type": "markdown",
   "metadata": {},
   "source": [
    "---"
   ]
  },
  {
   "cell_type": "markdown",
   "metadata": {},
   "source": [
    "#### streamlit wrappings"
   ]
  },
  {
   "cell_type": "code",
   "execution_count": null,
   "metadata": {},
   "outputs": [],
   "source": [
    "st.set_page_config(\n",
    "    page_title=\"Color Mood\",\n",
    "    page_icon=\"🎨\",\n",
    "    # layout=\"wide\",\n",
    ")\n",
    "\n",
    "st.markdown(f\"\"\"\n",
    "    <style>\n",
    "        .main .block-container{{\n",
    "            padding-top: 1.5rem;\n",
    "        }}\n",
    "    </style>\"\"\",\n",
    "    unsafe_allow_html=True,\n",
    ")\n",
    "st.title('Color of your :rainbow[Mood]')"
   ]
  },
  {
   "cell_type": "code",
   "execution_count": null,
   "metadata": {},
   "outputs": [],
   "source": [
    "# Initialization\n",
    "color_schemes = {\n",
    "    'RGB': ['R', 'G', 'B'],\n",
    "    'HSL': ['H', 'S', 'L']\n",
    "}\n",
    "\n",
    "if 'color_mode' not in st.session_state:\n",
    "    st.session_state['color_mode'] = 'RGB'\n",
    "color_keys = color_schemes[st.session_state['color_mode']]\n",
    "\n",
    "# color_keys = color_schemes['HSL']\n",
    "\n",
    "\n",
    "colors = {}\n",
    "delta = 0.1\n",
    "# Intialize all, in all color schemes\n",
    "for key in [value for _, vale in color_schemes.items() for value in vale]:\n",
    "    if key not in st.session_state:\n",
    "        st.session_state[key] = np.random.random()\n",
    "        st.session_state[key+'_prev'] = np.random.random()\n",
    "        st.session_state[key+'_a'] = 1\n",
    "        st.session_state[key+'_b'] = 1\n",
    "\n",
    "for key in [value for _, vale in color_schemes.items() for value in vale]:\n",
    "    colors[key] = st.session_state[key]\n",
    "    colors[key+'_prev'] = st.session_state[key+'_prev']\n",
    "    colors[key+'_a'] = st.session_state[key+'_a']\n",
    "    colors[key+'_b'] = st.session_state[key+'_b']\n",
    "\n",
    "if 'colors_df' not in st.session_state:\n",
    "    st.session_state['colors_df'] = pd.DataFrame.from_dict(colors, orient='index').T\n",
    "else:\n",
    "    colors_df = st.session_state['colors_df']\n",
    "\n",
    "\n",
    "for key in color_keys:\n",
    "    print(\"{}[a: {:.3f}, b: {:.3f}]\".format(key, colors[key+'_a'], colors[key+'_b']), end=' ')\n",
    "print()\n"
   ]
  },
  {
   "cell_type": "code",
   "execution_count": null,
   "metadata": {},
   "outputs": [],
   "source": [
    "st.write(\"Let's find your favourite color based on the mood you are in right now... \")\n",
    "\n",
    "col1, col2 = st.columns([1, 1])\n",
    "with col1:\n",
    "    A, B, C = [colors[key+'_prev'] for key in color_keys]\n",
    "    image = generate_color_image(A, B, C, st.session_state['color_mode'], 1024)\n",
    "    st.image(\n",
    "        image, \n",
    "        caption=\"[{:.2f}, {:.2f}, {:.2f}]\".format(A, B, C),\n",
    "        use_column_width=\"always\",)\n",
    "    st.button(\n",
    "        \"First\",\n",
    "        on_click=update_colors,\n",
    "        args=(colors, 'First',),\n",
    "        use_container_width=True,)\n",
    "\n",
    "with col2:\n",
    "    A, B, C = [colors[key] for key in color_keys]\n",
    "    image = generate_color_image(A, B, C, st.session_state['color_mode'], 1024)\n",
    "    st.image(\n",
    "        image, \n",
    "        caption=\"[{:.2f}, {:.2f}, {:.2f}]\".format(A, B, C),\n",
    "        use_column_width=\"always\",)\n",
    "    st.button(\n",
    "        \"Second\",\n",
    "        on_click=update_colors,\n",
    "        args=(colors, 'Second',),\n",
    "        use_container_width=True,)\n",
    "    \n",
    "st.caption(\"Use arrow keys or click button to state which color you 'feel' more for\")\n",
    "\n",
    "with st.sidebar:\n",
    "    color_key_index = st.radio(\n",
    "        label = 'Color Scheme Mode', \n",
    "        options = ['RGB','HSL'],\n",
    "        index = ['RGB','HSL'].index(st.session_state['color_mode']),\n",
    "        horizontal=True,\n",
    "    )\n",
    "\n",
    "    color_keys = color_schemes[color_key_index]\n",
    "    st.session_state['color_mode'] = color_key_index\n",
    "\n",
    "    try:\n",
    "        df = st.session_state['colors_df']\n",
    "        st.line_chart(df[color_keys])\n",
    "    except Exception as e:\n",
    "        print(\"Couldn't print the chart\", e)\n",
    "\n",
    "    st.button(\n",
    "        \"Reset\",\n",
    "        on_click=clear_session,\n",
    "        use_container_width=True,\n",
    "    )\n",
    "\n",
    "st.markdown(\"---\")\n",
    "\n",
    "st.subheader(\"Hey! Hi.\")\n",
    "\n",
    "st.markdown(\"I like :rainbow[colors]. I like :rainbow[stats]. So I thought why not combine the two and create something fun. And try to _figure out your favourite color based on stats?_\")\n",
    "\n",
    "st.markdown(\"This is using [Beta Distribution](https://en.wikipedia.org/wiki/Beta_distribution) to hone in on your favourite color. The more you click on the color you like, the more it should show up. On the sidebar you can choose a different color scheme and reset the algorithm learning. Do you see the colors converging in the graphs?\")\n",
    "\n",
    "st.markdown(\"[Talk to me](mailto:mail@knhash.in), is there a better way to it [than this](https://github.com/knhash/color_mood)?\")\n",
    "\n",
    "st.markdown(\"---\")\n",
    "\n",
    "st.markdown(\"Made with :heart: by [knhash](https://knhash.in)\")"
   ]
  },
  {
   "cell_type": "code",
   "execution_count": null,
   "metadata": {},
   "outputs": [],
   "source": [
    "components.html(\n",
    "    \"\"\"\n",
    "<script>\n",
    "const doc = window.parent.document;\n",
    "buttons = Array.from(doc.querySelectorAll('button[kind=secondary]'));\n",
    "const First_button = buttons.find(el => el.innerText === 'First');\n",
    "const Second_button = buttons.find(el => el.innerText === 'Second');\n",
    "doc.addEventListener('keydown', function(e) {\n",
    "    switch (e.keyCode) {\n",
    "        case 37: // (37 = First arrow)\n",
    "            First_button.click();\n",
    "            break;\n",
    "        case 39: // (39 = Second arrow)\n",
    "            Second_button.click();\n",
    "            break;\n",
    "    }\n",
    "});\n",
    "</script>\n",
    "\"\"\",\n",
    "    height=0,\n",
    "    width=0,\n",
    ")"
   ]
  },
  {
   "cell_type": "code",
   "execution_count": null,
   "metadata": {},
   "outputs": [],
   "source": []
  },
  {
   "cell_type": "code",
   "execution_count": null,
   "metadata": {},
   "outputs": [],
   "source": []
  }
 ],
 "metadata": {
  "kernelspec": {
   "display_name": "gamefeed",
   "language": "python",
   "name": "python3"
  },
  "language_info": {
   "codemirror_mode": {
    "name": "ipython",
    "version": 3
   },
   "file_extension": ".py",
   "mimetype": "text/x-python",
   "name": "python",
   "nbconvert_exporter": "python",
   "pygments_lexer": "ipython3",
   "version": "3.8.6"
  },
  "orig_nbformat": 4
 },
 "nbformat": 4,
 "nbformat_minor": 2
}
